{
 "cells": [
  {
   "cell_type": "markdown",
   "id": "natural-indiana",
   "metadata": {},
   "source": [
    "# Dispatch docker workloads on Azure Batch\n",
    "using the `AzureBatchManager`"
   ]
  },
  {
   "cell_type": "code",
   "execution_count": null,
   "id": "demonstrated-seventh",
   "metadata": {},
   "outputs": [],
   "source": [
    "from batch_manager import AzureBatchManager\n",
    "manager = AzureBatchManager()"
   ]
  },
  {
   "cell_type": "markdown",
   "id": "appreciated-diversity",
   "metadata": {},
   "source": [
    "## The pool\n",
    "Using `STANDARD_D4_V2` workers"
   ]
  },
  {
   "cell_type": "code",
   "execution_count": null,
   "id": "plain-offset",
   "metadata": {},
   "outputs": [],
   "source": [
    "docker_img = 'myimage:0.0.7'\n",
    "pool_id = \"mypool\"\n",
    "\n",
    "manager.create_pool(\n",
    "    pool_id,\n",
    "    docker_img,\n",
    "    vm_type='STANDARD_D4_V2',\n",
    "    low_prio_nodes=35,\n",
    ")"
   ]
  },
  {
   "cell_type": "markdown",
   "id": "caring-motel",
   "metadata": {},
   "source": [
    "## The job"
   ]
  },
  {
   "cell_type": "code",
   "execution_count": null,
   "id": "heavy-novel",
   "metadata": {},
   "outputs": [],
   "source": [
    "job_id = \"what_a_job\"\n",
    "manager.create_job(job_id, pool_id)"
   ]
  },
  {
   "cell_type": "markdown",
   "id": "running-queue",
   "metadata": {},
   "source": [
    "## The tasks"
   ]
  },
  {
   "cell_type": "code",
   "execution_count": null,
   "id": "fuzzy-founder",
   "metadata": {},
   "outputs": [],
   "source": [
    "script = \"src/main.py\"\n",
    "\n",
    "for d in range(10):\n",
    "    envs = {\n",
    "        \"AZB_PARAMETER_1\": f\"{d}\",\n",
    "        \"AZB_PARAMETER_1\": \"Hey you\",\n",
    "    }\n",
    "\n",
    "    manager.create_python_task(job_id, script, docker_img, envs)\n",
    "    print(f\"created task: {envs}\")\n",
    "    print(\"=\" * 30)\n",
    "\n",
    "print(\"Waiting for tasks to complete...\")\n",
    "manager.wait_for_tasks_to_complete(job_id)\n",
    "print(\"Done.\")"
   ]
  },
  {
   "cell_type": "markdown",
   "id": "constant-finland",
   "metadata": {},
   "source": [
    "## Cleaning up the resources"
   ]
  },
  {
   "cell_type": "code",
   "execution_count": null,
   "id": "interior-yacht",
   "metadata": {},
   "outputs": [],
   "source": [
    "manager.delete_job(job_id)\n",
    "manager.delete_pool(pool_id)"
   ]
  }
 ],
 "metadata": {
  "kernelspec": {
   "display_name": "Python 3",
   "language": "python",
   "name": "python3"
  },
  "language_info": {
   "codemirror_mode": {
    "name": "ipython",
    "version": 3
   },
   "file_extension": ".py",
   "mimetype": "text/x-python",
   "name": "python",
   "nbconvert_exporter": "python",
   "pygments_lexer": "ipython3",
   "version": "3.8.5"
  }
 },
 "nbformat": 4,
 "nbformat_minor": 5
}
